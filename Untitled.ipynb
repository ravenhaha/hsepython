{
 "cells": [
  {
   "cell_type": "code",
   "execution_count": 2,
   "id": "b0cadcb9-2e60-4264-b857-639648f3af8d",
   "metadata": {},
   "outputs": [
    {
     "name": "stdin",
     "output_type": "stream",
     "text": [
      "Введите год:  2022\n"
     ]
    },
    {
     "name": "stdout",
     "output_type": "stream",
     "text": [
      "Год не високосный.\n"
     ]
    }
   ],
   "source": [
    "year = int(input('Введите год: '))\n",
    "\n",
    "if(year % 4 == 0 and year % 100 != 0) or year % 400 ==0:\n",
    "    print('Год високосный.')\n",
    "else:\n",
    "    print('Год не високосный.')\n",
    "    "
   ]
  },
  {
   "cell_type": "code",
   "execution_count": 30,
   "id": "42b74a5f-434a-4174-9bd4-5c4cac7120ec",
   "metadata": {},
   "outputs": [
    {
     "name": "stdin",
     "output_type": "stream",
     "text": [
      "Введите номер билета 123321\n"
     ]
    },
    {
     "name": "stdout",
     "output_type": "stream",
     "text": [
      "Поздравляем, у вас счастливый билет!\n"
     ]
    }
   ],
   "source": [
    "number = int(input('Введите номер билета'))\n",
    "\n",
    "summ1 = 0\n",
    "summ2 = 0\n",
    "\n",
    "bubble = 0\n",
    "bubble3 = 0\n",
    "\n",
    "bubble = number // 1000 #три числа получается от 6 значного 123321(123)\n",
    "\n",
    "\n",
    "bubble3 = bubble // 10 #от 3х чисел остается второе\n",
    "bubble3 %= 10\n",
    "summ1 += bubble3\n",
    "bubble3 = 0\n",
    "\n",
    "bubble3 = bubble % 10 #от 3х чисел остается третье\n",
    "summ1 += bubble3\n",
    "bubble3 = 0\n",
    "\n",
    "bubble3 = bubble // 100 #от 3х чисел остается первое \n",
    "summ1 += bubble3\n",
    "bubble3 = 0\n",
    "bubble = 0\n",
    "\n",
    "bubble = number % 1000 #три числа получается от 6 значного 123321(321)\n",
    "bubble3 = bubble // 10 #от 3х чисел остается второе\n",
    "bubble3 %= 10\n",
    "summ2 += bubble3\n",
    "bubble3 = 0\n",
    "\n",
    "bubble3 = bubble % 10 #от 3х чисел остается третье\n",
    "summ2 += bubble3\n",
    "bubble3 = 0\n",
    "\n",
    "bubble3 = bubble // 100 #от 3х чисел остается первое \n",
    "summ2 += bubble3\n",
    "bubble3 = 0\n",
    "bubble = 0\n",
    "\n",
    "if summ1 == summ2:\n",
    "    print('Поздравляем, у вас счастливый билет!')\n",
    "else:\n",
    "    print('Не расстраивайтесь, у вас несчастливый билет.')\n",
    "\n",
    "\n",
    "\n",
    "\n"
   ]
  },
  {
   "cell_type": "code",
   "execution_count": null,
   "id": "971d4f31-c779-486c-bbbb-e32b7075476d",
   "metadata": {},
   "outputs": [],
   "source": []
  }
 ],
 "metadata": {
  "kernelspec": {
   "display_name": "Python 3 (ipykernel)",
   "language": "python",
   "name": "python3"
  },
  "language_info": {
   "codemirror_mode": {
    "name": "ipython",
    "version": 3
   },
   "file_extension": ".py",
   "mimetype": "text/x-python",
   "name": "python",
   "nbconvert_exporter": "python",
   "pygments_lexer": "ipython3",
   "version": "3.12.6"
  }
 },
 "nbformat": 4,
 "nbformat_minor": 5
}
